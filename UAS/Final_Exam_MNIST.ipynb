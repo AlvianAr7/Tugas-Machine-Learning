{
  "nbformat": 4,
  "nbformat_minor": 0,
  "metadata": {
    "colab": {
      "name": "Final Exam MNIST.ipynb",
      "provenance": []
    },
    "kernelspec": {
      "name": "python3",
      "display_name": "Python 3"
    },
    "language_info": {
      "name": "python"
    }
  },
  "cells": [
    {
      "cell_type": "code",
      "execution_count": 1,
      "metadata": {
        "id": "HsIHDEZBIlXk"
      },
      "outputs": [],
      "source": [
        "#Import library yang diperlukan\n",
        "import torch \n",
        "import torchvision \n",
        "import torch.nn as nn \n",
        "import torch.nn.functional as F \n",
        "import torch.optim as optim \n",
        "import matplotlib.pyplot as plt"
      ]
    },
    {
      "cell_type": "code",
      "source": [
        "n_epochs = 3 #  jumlah iterasi pada training data\n",
        "batch_size_train = 64 \n",
        "batch_size_test = 1000\n",
        "learning_rate = 0.01 \n",
        "momentum = 0.5 \n",
        "log_interval = 10\n",
        "\n",
        "random_seed = 1 \n",
        "torch.backends.cudnn.enabled = False \n",
        "torch.manual_seed(random_seed) "
      ],
      "metadata": {
        "colab": {
          "base_uri": "https://localhost:8080/"
        },
        "id": "AJk1y-TyImse",
        "outputId": "bba77071-f4e6-4489-a98e-7875fb14fb53"
      },
      "execution_count": 2,
      "outputs": [
        {
          "output_type": "execute_result",
          "data": {
            "text/plain": [
              "<torch._C.Generator at 0x7f2c2069ca90>"
            ]
          },
          "metadata": {},
          "execution_count": 2
        }
      ]
    },
    {
      "cell_type": "code",
      "source": [
        "train_loader = torch.utils.data.DataLoader( #data loader\n",
        "  torchvision.datasets.MNIST('/files/', train=True, download=True, # berguna untuk memanggil data MNIST dengan dataset train dan download yang bernilai true\n",
        "                             transform=torchvision.transforms.Compose([ # transform augmentasi data\n",
        "                               torchvision.transforms.ToTensor(), #  visualisasi tensor\n",
        "                               torchvision.transforms.Normalize( #skala ulang data\n",
        "                                 (0.1307,), (0.3081,))\n",
        "                             ])),\n",
        "  batch_size=batch_size_train, shuffle=True) #  membuat data acak.\n",
        "\n",
        "test_loader = torch.utils.data.DataLoader( \n",
        "  torchvision.datasets.MNIST('/files/', train=False, download=True, # memanggil data MNIST dengan dataset train yang bernilai true\n",
        "                             transform=torchvision.transforms.Compose([ #transform augmentasi data\n",
        "                               torchvision.transforms.ToTensor(), # visualisasi tensor\n",
        "                               torchvision.transforms.Normalize( #skala ulang data\n",
        "                                 (0.1307,), (0.3081,))\n",
        "                             ])),\n",
        "  batch_size=batch_size_test, shuffle=True) # membuat data acak"
      ],
      "metadata": {
        "id": "EmEkDXDLInEr"
      },
      "execution_count": 3,
      "outputs": []
    },
    {
      "cell_type": "code",
      "source": [
        "#  jumlah dataset\n",
        "examples = enumerate(test_loader)\n",
        "batch_idx, (example_data, example_targets) = next(examples)"
      ],
      "metadata": {
        "id": "b29xrO5BInIA"
      },
      "execution_count": 4,
      "outputs": []
    },
    {
      "cell_type": "code",
      "source": [
        "example_data.shape"
      ],
      "metadata": {
        "colab": {
          "base_uri": "https://localhost:8080/"
        },
        "id": "h-6fem2GInKU",
        "outputId": "1ea60ee8-eef5-4765-f7c8-43ca4eb34801"
      },
      "execution_count": 5,
      "outputs": [
        {
          "output_type": "execute_result",
          "data": {
            "text/plain": [
              "torch.Size([1000, 1, 28, 28])"
            ]
          },
          "metadata": {},
          "execution_count": 5
        }
      ]
    },
    {
      "cell_type": "code",
      "source": [
        "\n",
        "fig = plt.figure()\n",
        "for i in range(6):\n",
        "  plt.subplot(2,3,i+1)\n",
        "  plt.tight_layout()\n",
        "  plt.imshow(example_data[i][0], cmap='gray', interpolation='none')\n",
        "  plt.title(\"Nomor Asli: {}\".format(example_targets[i]))\n",
        "  plt.xticks([])\n",
        "  plt.yticks([])\n",
        "fig"
      ],
      "metadata": {
        "colab": {
          "base_uri": "https://localhost:8080/",
          "height": 551
        },
        "id": "lgOmj3RAInMv",
        "outputId": "5e7aa4ac-871f-41ea-f083-b04d55b1fb69"
      },
      "execution_count": 6,
      "outputs": [
        {
          "output_type": "execute_result",
          "data": {
            "image/png": "[encoded data removed]",
            "text/plain": [
              "<Figure size 432x288 with 6 Axes>"
            ]
          },
          "metadata": {},
          "execution_count": 6
        },
        {
          "output_type": "display_data",
          "data": {
            "image/png": "[encoded data removed]",
            "text/plain": [
              "<Figure size 432x288 with 6 Axes>"
            ]
          },
          "metadata": {}
        }
      ]
    },
    {
      "cell_type": "code",
      "source": [
        "class a(nn.Module): \n",
        "    def __init__(self): \n",
        "        super(Net, self).__init__()\n",
        "        self.conv1 = nn.Conv2d(1, 10, kernel_size=5) \n",
        "        self.conv2 = nn.Conv2d(10, 20, kernel_size=5) \n",
        "        self.conv2_drop = nn.Dropout2d() \n",
        "        self.fc1 = nn.Linear(320, 50) \n",
        "        self.fc2 = nn.Linear(50, 10) \n",
        "    def forward(self, x):\n",
        "        x = F.relu(F.max_pool2d(self.conv1(x), 2))\n",
        "        x = F.relu(F.max_pool2d(self.conv2_drop(self.conv2(x)), 2))\n",
        "        x = x.view(-1, 320)\n",
        "        x = F.relu(self.fc1(x))\n",
        "        x = F.dropout(x, training=self.training) \n",
        "        x = self.fc2(x)\n",
        "        return F.log_softmax(x) "
      ],
      "metadata": {
        "id": "wO0V5oHxInPn"
      },
      "execution_count": 7,
      "outputs": []
    },
    {
      "cell_type": "code",
      "source": [
        "class a(nn.Module): \n",
        "    def __init__(self): \n",
        "        super(a, self).__init__() \n",
        "        self.conv1 = nn.Conv2d(1, 10, kernel_size=5)\n",
        "        self.conv2 = nn.Conv2d(10, 20, kernel_size=5)\n",
        "        self.conv2_drop = nn.Dropout2d() \n",
        "        self.fc1 = nn.Linear(320, 50) \n",
        "        self.fc2 = nn.Linear(50, 10) \n",
        "    def forward(self, x): \n",
        "        x = F.relu(F.max_pool2d(self.conv1(x), 2)) \n",
        "        x = F.relu(F.max_pool2d(self.conv2_drop(self.conv2(x)), 2))\n",
        "        x = x.view(-1, 320)\n",
        "        x = F.relu(self.fc1(x))\n",
        "        x = F.dropout(x, training=self.training) \n",
        "        x = self.fc2(x)\n",
        "        return F.log_softmax(x)\n",
        "network = a() \n",
        "optimizer = optim.SGD(network.parameters(), lr=learning_rate, momentum=momentum) "
      ],
      "metadata": {
        "id": "EfnEAgSHInR1"
      },
      "execution_count": 8,
      "outputs": []
    },
    {
      "cell_type": "code",
      "source": [
        "#menyimpan proses training\n",
        "train_losses = [] \n",
        "train_counter = []\n",
        "test_losses = [] \n",
        "test_counter = [i*len(train_loader.dataset) for i in range(n_epochs + 1)]\n"
      ],
      "metadata": {
        "id": "IplEU1-7InUD"
      },
      "execution_count": 9,
      "outputs": []
    },
    {
      "cell_type": "code",
      "source": [
        "#proses train data\n",
        "def train(epoch): \n",
        "  network.train()\n",
        "  for batch_idx, (data, target) in enumerate(train_loader):\n",
        "    optimizer.zero_grad()\n",
        "    output = network(data)\n",
        "    loss = F.nll_loss(output, target)\n",
        "    loss.backward()\n",
        "    optimizer.step()\n",
        "    if batch_idx % log_interval == 0:\n",
        "      print('Train Epoch: {} [{}/{} ({:.0f}%)]\\tLoss: {:.6f}'.format(\n",
        "        epoch, batch_idx * len(data), len(train_loader.dataset),\n",
        "        100. * batch_idx / len(train_loader), loss.item()))\n",
        "      train_losses.append(loss.item())\n",
        "      train_counter.append(\n",
        "        (batch_idx*64) + ((epoch-1)*len(train_loader.dataset)))"
      ],
      "metadata": {
        "id": "WITELJeNInWm"
      },
      "execution_count": 10,
      "outputs": []
    },
    {
      "cell_type": "code",
      "source": [
        "#proses test\n",
        "def test(): \n",
        "  network.eval()\n",
        "  test_loss = 0\n",
        "  correct = 0\n",
        "  with torch.no_grad():\n",
        "    for data, target in test_loader:\n",
        "      output = network(data)\n",
        "      test_loss += F.nll_loss(output, target, size_average=False).item()\n",
        "      pred = output.data.max(1, keepdim=True)[1]\n",
        "      correct += pred.eq(target.data.view_as(pred)).sum()\n",
        "  test_loss /= len(test_loader.dataset)\n",
        "  test_losses.append(test_loss)\n",
        "  print('\\nTest set: Avg. loss: {:.4f}, Accuracy: {}/{} ({:.0f}%)\\n'.format(\n",
        "    test_loss, correct, len(test_loader.dataset),\n",
        "    100. * correct / len(test_loader.dataset)))"
      ],
      "metadata": {
        "id": "SYbKx7blInYy"
      },
      "execution_count": 11,
      "outputs": []
    },
    {
      "cell_type": "code",
      "source": [
        "#hasil training\n",
        "test()\n",
        "for epoch in range(1, n_epochs + 1):\n",
        "  train(epoch)\n",
        "  test()\n"
      ],
      "metadata": {
        "colab": {
          "base_uri": "https://localhost:8080/"
        },
        "id": "ib2JHncrInbH",
        "outputId": "4a1870e0-387c-4617-d941-e74af42414bc"
      },
      "execution_count": 12,
      "outputs": [
        {
          "output_type": "stream",
          "name": "stderr",
          "text": [
            "/usr/local/lib/python3.7/dist-packages/ipykernel_launcher.py:16: UserWarning: Implicit dimension choice for log_softmax has been deprecated. Change the call to include dim=X as an argument.\n",
            "  app.launch_new_instance()\n",
            "/usr/local/lib/python3.7/dist-packages/torch/nn/_reduction.py:42: UserWarning: size_average and reduce args will be deprecated, please use reduction='sum' instead.\n",
            "  warnings.warn(warning.format(ret))\n"
          ]
        },
        {
          "output_type": "stream",
          "name": "stdout",
          "text": [
            "\n",
            "Test set: Avg. loss: 2.3096, Accuracy: 924/10000 (9%)\n",
            "\n",
            "Train Epoch: 1 [0/60000 (0%)]\tLoss: 2.313179\n",
            "Train Epoch: 1 [640/60000 (1%)]\tLoss: 2.300776\n",
            "Train Epoch: 1 [1280/60000 (2%)]\tLoss: 2.298872\n",
            "Train Epoch: 1 [1920/60000 (3%)]\tLoss: 2.276723\n",
            "Train Epoch: 1 [2560/60000 (4%)]\tLoss: 2.241102\n",
            "Train Epoch: 1 [3200/60000 (5%)]\tLoss: 2.248662\n",
            "Train Epoch: 1 [3840/60000 (6%)]\tLoss: 2.189547\n",
            "Train Epoch: 1 [4480/60000 (7%)]\tLoss: 2.146399\n",
            "Train Epoch: 1 [5120/60000 (9%)]\tLoss: 2.107701\n",
            "Train Epoch: 1 [5760/60000 (10%)]\tLoss: 2.011356\n",
            "Train Epoch: 1 [6400/60000 (11%)]\tLoss: 1.843857\n",
            "Train Epoch: 1 [7040/60000 (12%)]\tLoss: 1.758839\n",
            "Train Epoch: 1 [7680/60000 (13%)]\tLoss: 1.672644\n",
            "Train Epoch: 1 [8320/60000 (14%)]\tLoss: 1.687645\n",
            "Train Epoch: 1 [8960/60000 (15%)]\tLoss: 1.426628\n",
            "Train Epoch: 1 [9600/60000 (16%)]\tLoss: 1.284204\n",
            "Train Epoch: 1 [10240/60000 (17%)]\tLoss: 1.318824\n",
            "Train Epoch: 1 [10880/60000 (18%)]\tLoss: 1.445287\n",
            "Train Epoch: 1 [11520/60000 (19%)]\tLoss: 1.140686\n",
            "Train Epoch: 1 [12160/60000 (20%)]\tLoss: 1.152914\n",
            "Train Epoch: 1 [12800/60000 (21%)]\tLoss: 1.054201\n",
            "Train Epoch: 1 [13440/60000 (22%)]\tLoss: 0.900051\n",
            "Train Epoch: 1 [14080/60000 (23%)]\tLoss: 1.192117\n",
            "Train Epoch: 1 [14720/60000 (25%)]\tLoss: 0.944672\n",
            "Train Epoch: 1 [15360/60000 (26%)]\tLoss: 0.883143\n",
            "Train Epoch: 1 [16000/60000 (27%)]\tLoss: 0.846327\n",
            "Train Epoch: 1 [16640/60000 (28%)]\tLoss: 0.773429\n",
            "Train Epoch: 1 [17280/60000 (29%)]\tLoss: 0.760332\n",
            "Train Epoch: 1 [17920/60000 (30%)]\tLoss: 0.813500\n",
            "Train Epoch: 1 [18560/60000 (31%)]\tLoss: 0.890023\n",
            "Train Epoch: 1 [19200/60000 (32%)]\tLoss: 0.797666\n",
            "Train Epoch: 1 [19840/60000 (33%)]\tLoss: 0.903690\n",
            "Train Epoch: 1 [20480/60000 (34%)]\tLoss: 0.582573\n",
            "Train Epoch: 1 [21120/60000 (35%)]\tLoss: 0.689915\n",
            "Train Epoch: 1 [21760/60000 (36%)]\tLoss: 0.625810\n",
            "Train Epoch: 1 [22400/60000 (37%)]\tLoss: 0.770786\n",
            "Train Epoch: 1 [23040/60000 (38%)]\tLoss: 0.730335\n",
            "Train Epoch: 1 [23680/60000 (39%)]\tLoss: 0.636302\n",
            "Train Epoch: 1 [24320/60000 (41%)]\tLoss: 0.662824\n",
            "Train Epoch: 1 [24960/60000 (42%)]\tLoss: 0.831556\n",
            "Train Epoch: 1 [25600/60000 (43%)]\tLoss: 0.855463\n",
            "Train Epoch: 1 [26240/60000 (44%)]\tLoss: 0.622609\n",
            "Train Epoch: 1 [26880/60000 (45%)]\tLoss: 0.622195\n",
            "Train Epoch: 1 [27520/60000 (46%)]\tLoss: 0.684112\n",
            "Train Epoch: 1 [28160/60000 (47%)]\tLoss: 0.591477\n",
            "Train Epoch: 1 [28800/60000 (48%)]\tLoss: 0.548008\n",
            "Train Epoch: 1 [29440/60000 (49%)]\tLoss: 0.817349\n",
            "Train Epoch: 1 [30080/60000 (50%)]\tLoss: 0.740777\n",
            "Train Epoch: 1 [30720/60000 (51%)]\tLoss: 0.629410\n",
            "Train Epoch: 1 [31360/60000 (52%)]\tLoss: 0.647893\n",
            "Train Epoch: 1 [32000/60000 (53%)]\tLoss: 0.718166\n",
            "Train Epoch: 1 [32640/60000 (54%)]\tLoss: 0.442519\n",
            "Train Epoch: 1 [33280/60000 (55%)]\tLoss: 0.588815\n",
            "Train Epoch: 1 [33920/60000 (57%)]\tLoss: 0.574275\n",
            "Train Epoch: 1 [34560/60000 (58%)]\tLoss: 0.662193\n",
            "Train Epoch: 1 [35200/60000 (59%)]\tLoss: 0.581378\n",
            "Train Epoch: 1 [35840/60000 (60%)]\tLoss: 0.552965\n",
            "Train Epoch: 1 [36480/60000 (61%)]\tLoss: 0.629548\n",
            "Train Epoch: 1 [37120/60000 (62%)]\tLoss: 0.806323\n",
            "Train Epoch: 1 [37760/60000 (63%)]\tLoss: 0.570483\n",
            "Train Epoch: 1 [38400/60000 (64%)]\tLoss: 0.630249\n",
            "Train Epoch: 1 [39040/60000 (65%)]\tLoss: 0.533901\n",
            "Train Epoch: 1 [39680/60000 (66%)]\tLoss: 0.606014\n",
            "Train Epoch: 1 [40320/60000 (67%)]\tLoss: 0.313529\n",
            "Train Epoch: 1 [40960/60000 (68%)]\tLoss: 0.341635\n",
            "Train Epoch: 1 [41600/60000 (69%)]\tLoss: 0.372991\n",
            "Train Epoch: 1 [42240/60000 (70%)]\tLoss: 0.304391\n",
            "Train Epoch: 1 [42880/60000 (71%)]\tLoss: 0.410402\n",
            "Train Epoch: 1 [43520/60000 (72%)]\tLoss: 0.433411\n",
            "Train Epoch: 1 [44160/60000 (74%)]\tLoss: 0.463309\n",
            "Train Epoch: 1 [44800/60000 (75%)]\tLoss: 0.622023\n",
            "Train Epoch: 1 [45440/60000 (76%)]\tLoss: 0.532741\n",
            "Train Epoch: 1 [46080/60000 (77%)]\tLoss: 0.513102\n",
            "Train Epoch: 1 [46720/60000 (78%)]\tLoss: 0.379147\n",
            "Train Epoch: 1 [47360/60000 (79%)]\tLoss: 0.494450\n",
            "Train Epoch: 1 [48000/60000 (80%)]\tLoss: 0.552965\n",
            "Train Epoch: 1 [48640/60000 (81%)]\tLoss: 0.411835\n",
            "Train Epoch: 1 [49280/60000 (82%)]\tLoss: 0.386074\n",
            "Train Epoch: 1 [49920/60000 (83%)]\tLoss: 0.529180\n",
            "Train Epoch: 1 [50560/60000 (84%)]\tLoss: 0.429499\n",
            "Train Epoch: 1 [51200/60000 (85%)]\tLoss: 0.698326\n",
            "Train Epoch: 1 [51840/60000 (86%)]\tLoss: 0.501268\n",
            "Train Epoch: 1 [52480/60000 (87%)]\tLoss: 0.687830\n",
            "Train Epoch: 1 [53120/60000 (88%)]\tLoss: 0.542044\n",
            "Train Epoch: 1 [53760/60000 (90%)]\tLoss: 0.554924\n",
            "Train Epoch: 1 [54400/60000 (91%)]\tLoss: 0.627658\n",
            "Train Epoch: 1 [55040/60000 (92%)]\tLoss: 0.448396\n",
            "Train Epoch: 1 [55680/60000 (93%)]\tLoss: 0.552543\n",
            "Train Epoch: 1 [56320/60000 (94%)]\tLoss: 0.539645\n",
            "Train Epoch: 1 [56960/60000 (95%)]\tLoss: 0.358408\n",
            "Train Epoch: 1 [57600/60000 (96%)]\tLoss: 0.315748\n",
            "Train Epoch: 1 [58240/60000 (97%)]\tLoss: 0.295583\n",
            "Train Epoch: 1 [58880/60000 (98%)]\tLoss: 0.714280\n",
            "Train Epoch: 1 [59520/60000 (99%)]\tLoss: 0.385003\n",
            "\n",
            "Test set: Avg. loss: 0.1857, Accuracy: 9442/10000 (94%)\n",
            "\n",
            "Train Epoch: 2 [0/60000 (0%)]\tLoss: 0.445344\n",
            "Train Epoch: 2 [640/60000 (1%)]\tLoss: 0.455124\n",
            "Train Epoch: 2 [1280/60000 (2%)]\tLoss: 0.508557\n",
            "Train Epoch: 2 [1920/60000 (3%)]\tLoss: 0.514944\n",
            "Train Epoch: 2 [2560/60000 (4%)]\tLoss: 0.307130\n",
            "Train Epoch: 2 [3200/60000 (5%)]\tLoss: 0.166827\n",
            "Train Epoch: 2 [3840/60000 (6%)]\tLoss: 0.481948\n",
            "Train Epoch: 2 [4480/60000 (7%)]\tLoss: 0.411174\n",
            "Train Epoch: 2 [5120/60000 (9%)]\tLoss: 0.386628\n",
            "Train Epoch: 2 [5760/60000 (10%)]\tLoss: 0.654901\n",
            "Train Epoch: 2 [6400/60000 (11%)]\tLoss: 0.567060\n",
            "Train Epoch: 2 [7040/60000 (12%)]\tLoss: 0.302395\n",
            "Train Epoch: 2 [7680/60000 (13%)]\tLoss: 0.435403\n",
            "Train Epoch: 2 [8320/60000 (14%)]\tLoss: 0.637166\n",
            "Train Epoch: 2 [8960/60000 (15%)]\tLoss: 0.480222\n",
            "Train Epoch: 2 [9600/60000 (16%)]\tLoss: 0.443356\n",
            "Train Epoch: 2 [10240/60000 (17%)]\tLoss: 0.309409\n",
            "Train Epoch: 2 [10880/60000 (18%)]\tLoss: 0.513726\n",
            "Train Epoch: 2 [11520/60000 (19%)]\tLoss: 0.335656\n",
            "Train Epoch: 2 [12160/60000 (20%)]\tLoss: 0.318909\n",
            "Train Epoch: 2 [12800/60000 (21%)]\tLoss: 0.482202\n",
            "Train Epoch: 2 [13440/60000 (22%)]\tLoss: 0.452299\n",
            "Train Epoch: 2 [14080/60000 (23%)]\tLoss: 0.488675\n",
            "Train Epoch: 2 [14720/60000 (25%)]\tLoss: 0.357645\n",
            "Train Epoch: 2 [15360/60000 (26%)]\tLoss: 0.203631\n",
            "Train Epoch: 2 [16000/60000 (27%)]\tLoss: 0.245364\n",
            "Train Epoch: 2 [16640/60000 (28%)]\tLoss: 0.370612\n",
            "Train Epoch: 2 [17280/60000 (29%)]\tLoss: 0.422542\n",
            "Train Epoch: 2 [17920/60000 (30%)]\tLoss: 0.330127\n",
            "Train Epoch: 2 [18560/60000 (31%)]\tLoss: 0.338271\n",
            "Train Epoch: 2 [19200/60000 (32%)]\tLoss: 0.490632\n",
            "Train Epoch: 2 [19840/60000 (33%)]\tLoss: 0.343428\n",
            "Train Epoch: 2 [20480/60000 (34%)]\tLoss: 0.365342\n",
            "Train Epoch: 2 [21120/60000 (35%)]\tLoss: 0.354085\n",
            "Train Epoch: 2 [21760/60000 (36%)]\tLoss: 0.495023\n",
            "Train Epoch: 2 [22400/60000 (37%)]\tLoss: 0.615366\n",
            "Train Epoch: 2 [23040/60000 (38%)]\tLoss: 0.502250\n",
            "Train Epoch: 2 [23680/60000 (39%)]\tLoss: 0.346734\n",
            "Train Epoch: 2 [24320/60000 (41%)]\tLoss: 0.402678\n",
            "Train Epoch: 2 [24960/60000 (42%)]\tLoss: 0.214695\n",
            "Train Epoch: 2 [25600/60000 (43%)]\tLoss: 0.202890\n",
            "Train Epoch: 2 [26240/60000 (44%)]\tLoss: 0.382362\n",
            "Train Epoch: 2 [26880/60000 (45%)]\tLoss: 0.289023\n",
            "Train Epoch: 2 [27520/60000 (46%)]\tLoss: 0.220916\n",
            "Train Epoch: 2 [28160/60000 (47%)]\tLoss: 0.170391\n",
            "Train Epoch: 2 [28800/60000 (48%)]\tLoss: 0.256910\n",
            "Train Epoch: 2 [29440/60000 (49%)]\tLoss: 0.534618\n",
            "Train Epoch: 2 [30080/60000 (50%)]\tLoss: 0.300058\n",
            "Train Epoch: 2 [30720/60000 (51%)]\tLoss: 0.315085\n",
            "Train Epoch: 2 [31360/60000 (52%)]\tLoss: 0.440820\n",
            "Train Epoch: 2 [32000/60000 (53%)]\tLoss: 0.675981\n",
            "Train Epoch: 2 [32640/60000 (54%)]\tLoss: 0.297427\n",
            "Train Epoch: 2 [33280/60000 (55%)]\tLoss: 0.274006\n",
            "Train Epoch: 2 [33920/60000 (57%)]\tLoss: 0.438711\n",
            "Train Epoch: 2 [34560/60000 (58%)]\tLoss: 0.401921\n",
            "Train Epoch: 2 [35200/60000 (59%)]\tLoss: 0.444080\n",
            "Train Epoch: 2 [35840/60000 (60%)]\tLoss: 0.458008\n",
            "Train Epoch: 2 [36480/60000 (61%)]\tLoss: 0.346627\n",
            "Train Epoch: 2 [37120/60000 (62%)]\tLoss: 0.484574\n",
            "Train Epoch: 2 [37760/60000 (63%)]\tLoss: 0.433633\n",
            "Train Epoch: 2 [38400/60000 (64%)]\tLoss: 0.282992\n",
            "Train Epoch: 2 [39040/60000 (65%)]\tLoss: 0.200426\n",
            "Train Epoch: 2 [39680/60000 (66%)]\tLoss: 0.424679\n",
            "Train Epoch: 2 [40320/60000 (67%)]\tLoss: 0.190963\n",
            "Train Epoch: 2 [40960/60000 (68%)]\tLoss: 0.494524\n",
            "Train Epoch: 2 [41600/60000 (69%)]\tLoss: 0.148114\n",
            "Train Epoch: 2 [42240/60000 (70%)]\tLoss: 0.344336\n",
            "Train Epoch: 2 [42880/60000 (71%)]\tLoss: 0.471291\n",
            "Train Epoch: 2 [43520/60000 (72%)]\tLoss: 0.278837\n",
            "Train Epoch: 2 [44160/60000 (74%)]\tLoss: 0.382210\n",
            "Train Epoch: 2 [44800/60000 (75%)]\tLoss: 0.236313\n",
            "Train Epoch: 2 [45440/60000 (76%)]\tLoss: 0.504887\n",
            "Train Epoch: 2 [46080/60000 (77%)]\tLoss: 0.286785\n",
            "Train Epoch: 2 [46720/60000 (78%)]\tLoss: 0.283889\n",
            "Train Epoch: 2 [47360/60000 (79%)]\tLoss: 0.203719\n",
            "Train Epoch: 2 [48000/60000 (80%)]\tLoss: 0.258618\n",
            "Train Epoch: 2 [48640/60000 (81%)]\tLoss: 0.358589\n",
            "Train Epoch: 2 [49280/60000 (82%)]\tLoss: 0.450872\n",
            "Train Epoch: 2 [49920/60000 (83%)]\tLoss: 0.272140\n",
            "Train Epoch: 2 [50560/60000 (84%)]\tLoss: 0.321347\n",
            "Train Epoch: 2 [51200/60000 (85%)]\tLoss: 0.453915\n",
            "Train Epoch: 2 [51840/60000 (86%)]\tLoss: 0.309002\n",
            "Train Epoch: 2 [52480/60000 (87%)]\tLoss: 0.339482\n",
            "Train Epoch: 2 [53120/60000 (88%)]\tLoss: 0.252962\n",
            "Train Epoch: 2 [53760/60000 (90%)]\tLoss: 0.242382\n",
            "Train Epoch: 2 [54400/60000 (91%)]\tLoss: 0.198718\n",
            "Train Epoch: 2 [55040/60000 (92%)]\tLoss: 0.478653\n",
            "Train Epoch: 2 [55680/60000 (93%)]\tLoss: 0.199949\n",
            "Train Epoch: 2 [56320/60000 (94%)]\tLoss: 0.368458\n",
            "Train Epoch: 2 [56960/60000 (95%)]\tLoss: 0.211159\n",
            "Train Epoch: 2 [57600/60000 (96%)]\tLoss: 0.559213\n",
            "Train Epoch: 2 [58240/60000 (97%)]\tLoss: 0.488294\n",
            "Train Epoch: 2 [58880/60000 (98%)]\tLoss: 0.265739\n",
            "Train Epoch: 2 [59520/60000 (99%)]\tLoss: 0.284357\n",
            "\n",
            "Test set: Avg. loss: 0.1157, Accuracy: 9632/10000 (96%)\n",
            "\n",
            "Train Epoch: 3 [0/60000 (0%)]\tLoss: 0.205960\n",
            "Train Epoch: 3 [640/60000 (1%)]\tLoss: 0.244732\n",
            "Train Epoch: 3 [1280/60000 (2%)]\tLoss: 0.371951\n",
            "Train Epoch: 3 [1920/60000 (3%)]\tLoss: 0.253303\n",
            "Train Epoch: 3 [2560/60000 (4%)]\tLoss: 0.264647\n",
            "Train Epoch: 3 [3200/60000 (5%)]\tLoss: 0.322023\n",
            "Train Epoch: 3 [3840/60000 (6%)]\tLoss: 0.286778\n",
            "Train Epoch: 3 [4480/60000 (7%)]\tLoss: 0.468658\n",
            "Train Epoch: 3 [5120/60000 (9%)]\tLoss: 0.496530\n",
            "Train Epoch: 3 [5760/60000 (10%)]\tLoss: 0.404284\n",
            "Train Epoch: 3 [6400/60000 (11%)]\tLoss: 0.309139\n",
            "Train Epoch: 3 [7040/60000 (12%)]\tLoss: 0.339248\n",
            "Train Epoch: 3 [7680/60000 (13%)]\tLoss: 0.246931\n",
            "Train Epoch: 3 [8320/60000 (14%)]\tLoss: 0.165825\n",
            "Train Epoch: 3 [8960/60000 (15%)]\tLoss: 0.260806\n",
            "Train Epoch: 3 [9600/60000 (16%)]\tLoss: 0.241020\n",
            "Train Epoch: 3 [10240/60000 (17%)]\tLoss: 0.277869\n",
            "Train Epoch: 3 [10880/60000 (18%)]\tLoss: 0.308188\n",
            "Train Epoch: 3 [11520/60000 (19%)]\tLoss: 0.452685\n",
            "Train Epoch: 3 [12160/60000 (20%)]\tLoss: 0.217459\n",
            "Train Epoch: 3 [12800/60000 (21%)]\tLoss: 0.437751\n",
            "Train Epoch: 3 [13440/60000 (22%)]\tLoss: 0.324587\n",
            "Train Epoch: 3 [14080/60000 (23%)]\tLoss: 0.363604\n",
            "Train Epoch: 3 [14720/60000 (25%)]\tLoss: 0.321697\n",
            "Train Epoch: 3 [15360/60000 (26%)]\tLoss: 0.313999\n",
            "Train Epoch: 3 [16000/60000 (27%)]\tLoss: 0.793556\n",
            "Train Epoch: 3 [16640/60000 (28%)]\tLoss: 0.541063\n",
            "Train Epoch: 3 [17280/60000 (29%)]\tLoss: 0.452134\n",
            "Train Epoch: 3 [17920/60000 (30%)]\tLoss: 0.313926\n",
            "Train Epoch: 3 [18560/60000 (31%)]\tLoss: 0.294718\n",
            "Train Epoch: 3 [19200/60000 (32%)]\tLoss: 0.348768\n",
            "Train Epoch: 3 [19840/60000 (33%)]\tLoss: 0.376377\n",
            "Train Epoch: 3 [20480/60000 (34%)]\tLoss: 0.193123\n",
            "Train Epoch: 3 [21120/60000 (35%)]\tLoss: 0.178910\n",
            "Train Epoch: 3 [21760/60000 (36%)]\tLoss: 0.350775\n",
            "Train Epoch: 3 [22400/60000 (37%)]\tLoss: 0.230362\n",
            "Train Epoch: 3 [23040/60000 (38%)]\tLoss: 0.450118\n",
            "Train Epoch: 3 [23680/60000 (39%)]\tLoss: 0.230771\n",
            "Train Epoch: 3 [24320/60000 (41%)]\tLoss: 0.256819\n",
            "Train Epoch: 3 [24960/60000 (42%)]\tLoss: 0.167242\n",
            "Train Epoch: 3 [25600/60000 (43%)]\tLoss: 0.422827\n",
            "Train Epoch: 3 [26240/60000 (44%)]\tLoss: 0.202544\n",
            "Train Epoch: 3 [26880/60000 (45%)]\tLoss: 0.207036\n",
            "Train Epoch: 3 [27520/60000 (46%)]\tLoss: 0.202865\n",
            "Train Epoch: 3 [28160/60000 (47%)]\tLoss: 0.327835\n",
            "Train Epoch: 3 [28800/60000 (48%)]\tLoss: 0.493131\n",
            "Train Epoch: 3 [29440/60000 (49%)]\tLoss: 0.167332\n",
            "Train Epoch: 3 [30080/60000 (50%)]\tLoss: 0.275360\n",
            "Train Epoch: 3 [30720/60000 (51%)]\tLoss: 0.237743\n",
            "Train Epoch: 3 [31360/60000 (52%)]\tLoss: 0.218859\n",
            "Train Epoch: 3 [32000/60000 (53%)]\tLoss: 0.451771\n",
            "Train Epoch: 3 [32640/60000 (54%)]\tLoss: 0.342987\n",
            "Train Epoch: 3 [33280/60000 (55%)]\tLoss: 0.167801\n",
            "Train Epoch: 3 [33920/60000 (57%)]\tLoss: 0.464847\n",
            "Train Epoch: 3 [34560/60000 (58%)]\tLoss: 0.254893\n",
            "Train Epoch: 3 [35200/60000 (59%)]\tLoss: 0.334374\n",
            "Train Epoch: 3 [35840/60000 (60%)]\tLoss: 0.475630\n",
            "Train Epoch: 3 [36480/60000 (61%)]\tLoss: 0.188253\n",
            "Train Epoch: 3 [37120/60000 (62%)]\tLoss: 0.218118\n",
            "Train Epoch: 3 [37760/60000 (63%)]\tLoss: 0.318144\n",
            "Train Epoch: 3 [38400/60000 (64%)]\tLoss: 0.448853\n",
            "Train Epoch: 3 [39040/60000 (65%)]\tLoss: 0.380965\n",
            "Train Epoch: 3 [39680/60000 (66%)]\tLoss: 0.202557\n",
            "Train Epoch: 3 [40320/60000 (67%)]\tLoss: 0.236374\n",
            "Train Epoch: 3 [40960/60000 (68%)]\tLoss: 0.439942\n",
            "Train Epoch: 3 [41600/60000 (69%)]\tLoss: 0.330638\n",
            "Train Epoch: 3 [42240/60000 (70%)]\tLoss: 0.390288\n",
            "Train Epoch: 3 [42880/60000 (71%)]\tLoss: 0.176645\n",
            "Train Epoch: 3 [43520/60000 (72%)]\tLoss: 0.240420\n",
            "Train Epoch: 3 [44160/60000 (74%)]\tLoss: 0.306952\n",
            "Train Epoch: 3 [44800/60000 (75%)]\tLoss: 0.174513\n",
            "Train Epoch: 3 [45440/60000 (76%)]\tLoss: 0.244105\n",
            "Train Epoch: 3 [46080/60000 (77%)]\tLoss: 0.352610\n",
            "Train Epoch: 3 [46720/60000 (78%)]\tLoss: 0.199201\n",
            "Train Epoch: 3 [47360/60000 (79%)]\tLoss: 0.374064\n",
            "Train Epoch: 3 [48000/60000 (80%)]\tLoss: 0.339176\n",
            "Train Epoch: 3 [48640/60000 (81%)]\tLoss: 0.216112\n",
            "Train Epoch: 3 [49280/60000 (82%)]\tLoss: 0.218680\n",
            "Train Epoch: 3 [49920/60000 (83%)]\tLoss: 0.498825\n",
            "Train Epoch: 3 [50560/60000 (84%)]\tLoss: 0.423273\n",
            "Train Epoch: 3 [51200/60000 (85%)]\tLoss: 0.423997\n",
            "Train Epoch: 3 [51840/60000 (86%)]\tLoss: 0.241895\n",
            "Train Epoch: 3 [52480/60000 (87%)]\tLoss: 0.481473\n",
            "Train Epoch: 3 [53120/60000 (88%)]\tLoss: 0.221739\n",
            "Train Epoch: 3 [53760/60000 (90%)]\tLoss: 0.182102\n",
            "Train Epoch: 3 [54400/60000 (91%)]\tLoss: 0.393156\n",
            "Train Epoch: 3 [55040/60000 (92%)]\tLoss: 0.289855\n",
            "Train Epoch: 3 [55680/60000 (93%)]\tLoss: 0.180332\n",
            "Train Epoch: 3 [56320/60000 (94%)]\tLoss: 0.292162\n",
            "Train Epoch: 3 [56960/60000 (95%)]\tLoss: 0.344608\n",
            "Train Epoch: 3 [57600/60000 (96%)]\tLoss: 0.538004\n",
            "Train Epoch: 3 [58240/60000 (97%)]\tLoss: 0.371207\n",
            "Train Epoch: 3 [58880/60000 (98%)]\tLoss: 0.113231\n",
            "Train Epoch: 3 [59520/60000 (99%)]\tLoss: 0.318176\n",
            "\n",
            "Test set: Avg. loss: 0.1001, Accuracy: 9684/10000 (97%)\n",
            "\n"
          ]
        }
      ]
    },
    {
      "cell_type": "markdown",
      "source": [
        "mendapatkan akurasi sebesar 94 persen pada epoch 1 mendapatkan akurasi sebesar 96 persen pada epoch 2 mendapatkan akurasi sebesar 97 persen pada epoch 3"
      ],
      "metadata": {
        "id": "mC8FNdP6yyy6"
      }
    },
    {
      "cell_type": "code",
      "source": [
        "#membuat plot kesalahan untuk train dan test\n",
        "fig = plt.figure()\n",
        "plt.plot(train_counter, train_losses, color='blue')\n",
        "plt.scatter(test_counter, test_losses, color='red')\n",
        "plt.legend(['Train Loss', 'Test Loss'], loc='upper right')\n",
        "plt.xlabel('Jumlah data yang telah di training')\n",
        "fig"
      ],
      "metadata": {
        "colab": {
          "base_uri": "https://localhost:8080/",
          "height": 541
        },
        "id": "BOhBawTUIndm",
        "outputId": "2d24012e-1061-434c-9652-55e95274a353"
      },
      "execution_count": 13,
      "outputs": [
        {
          "output_type": "execute_result",
          "data": {
            "image/png": "[encoded data removed]",
            "text/plain": [
              "<Figure size 432x288 with 1 Axes>"
            ]
          },
          "metadata": {},
          "execution_count": 13
        },
        {
          "output_type": "display_data",
          "data": {
            "image/png": "[encoded data removed]",
            "text/plain": [
              "<Figure size 432x288 with 1 Axes>"
            ]
          },
          "metadata": {
            "needs_background": "light"
          }
        }
      ]
    }
  ]
}